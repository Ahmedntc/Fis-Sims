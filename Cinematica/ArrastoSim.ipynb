{
  "cells": [
    {
      "cell_type": "markdown",
      "metadata": {},
      "source": [
        "Importando as Bibliotecas"
      ]
    },
    {
      "cell_type": "code",
      "execution_count": null,
      "metadata": {},
      "outputs": [],
      "source": [
        "import math\n",
        "import matplotlib.pyplot as plt\n",
        "import numpy as np"
      ]
    },
    {
      "cell_type": "markdown",
      "metadata": {},
      "source": [
        "Declarando variaveis e iniciando as lists que serão usadas para plotar as figuras"
      ]
    },
    {
      "cell_type": "code",
      "execution_count": null,
      "metadata": {},
      "outputs": [],
      "source": [
        "pIy = 0.0 \n",
        "pIx = 0.0\n",
        "\n",
        "g = 9.81\n",
        "\n",
        "x = 0.00\n",
        "y = 0.00\n",
        "\n",
        "Y = []\n",
        "X = []\n",
        "\n",
        "rX = []\n",
        "rY = []"
      ]
    },
    {
      "cell_type": "markdown",
      "metadata": {},
      "source": [
        "Definindo a função para a componente X da velocidade que depende de v0 que é a velocidade inicial e ang que é o ângulo, ambos são fornecidos pelo usuário."
      ]
    },
    {
      "cell_type": "code",
      "execution_count": 2,
      "metadata": {},
      "outputs": [],
      "source": [
        "def v_x(v0, ang):\n",
        "  return v0 * math.cos(ang)"
      ]
    },
    {
      "cell_type": "markdown",
      "metadata": {},
      "source": [
        "Definindo a função para a componente Y da velocidade quando t = 0 que depende de v0 que é a velocidade inicial e ang que é o ângulo, ambos são fornecidos pelo usuário."
      ]
    },
    {
      "cell_type": "code",
      "execution_count": null,
      "metadata": {},
      "outputs": [],
      "source": [
        "\n",
        "def vI_y(v0, ang):\n",
        "  return v0 * math.sin(ang)"
      ]
    },
    {
      "cell_type": "markdown",
      "metadata": {},
      "source": [
        "Definindo a função para a componente Y da velocidade quando  que depende de v0 que é a velocidade inicial, ang que é o ângulo, ambos são fornecidos pelo usuário, depende da força de aceleração da gravidade e do instante de tempo t"
      ]
    },
    {
      "cell_type": "code",
      "execution_count": null,
      "metadata": {},
      "outputs": [],
      "source": [
        "def speedY(v0, grav, time, ang):\n",
        "  return v0 * math.sin(ang) - (grav * time)"
      ]
    },
    {
      "cell_type": "markdown",
      "metadata": {},
      "source": [
        "Definindo as posiçoes de X que depende da posição inicial p0_x da velocidade na componente X e do tempo\n"
      ]
    },
    {
      "cell_type": "code",
      "execution_count": null,
      "metadata": {},
      "outputs": [],
      "source": [
        "def pos_X(p0_x, v_x, time):\n",
        "  return p0_x + (v_x * time)"
      ]
    },
    {
      "cell_type": "markdown",
      "metadata": {},
      "source": [
        "Definindo as posiçoes de Y que depende da posição inicial p0_y da velocidade na componente Y, do tempo e da gravidade\n"
      ]
    },
    {
      "cell_type": "code",
      "execution_count": null,
      "metadata": {},
      "outputs": [],
      "source": [
        "def pos_Y(p0_y, v_y, time, grav):\n",
        "  return p0_y + (v_y * time) - ((grav * (time ** 2))/2)"
      ]
    },
    {
      "cell_type": "markdown",
      "metadata": {},
      "source": [
        "Resultante da Velocidade total"
      ]
    },
    {
      "cell_type": "code",
      "execution_count": null,
      "metadata": {},
      "outputs": [],
      "source": [
        "def v_T(v_x, v_y):\n",
        "  return (math.sqrt(v_x ** 2  + v_y ** 2))"
      ]
    },
    {
      "cell_type": "markdown",
      "metadata": {},
      "source": [
        "Definimos a função para retornar o ângulo instantâneo"
      ]
    },
    {
      "cell_type": "code",
      "execution_count": null,
      "metadata": {},
      "outputs": [],
      "source": [
        "def anguloInst(vY, vX):\n",
        "  return math.atan(vY/vX)"
      ]
    },
    {
      "cell_type": "markdown",
      "metadata": {},
      "source": [
        "## Força resistiva\n",
        "  D coeficente de arrasto de um objeto nesse caso 0.47 pois é uma esfera,\n",
        "  P que é a densidade do ar,\n",
        "  A que é a área de seção transversal,\n",
        "  V que é a velocidade do projétil\n",
        "\n",
        "\n"
      ]
    },
    {
      "cell_type": "code",
      "execution_count": null,
      "metadata": {},
      "outputs": [],
      "source": [
        "def forRes(d=0.47, p=1.225, a=0.8, v=0.0):\n",
        "    res = 0.5 * d * p * a * (v ** 2)\n",
        "    return res"
      ]
    },
    {
      "cell_type": "markdown",
      "metadata": {},
      "source": [
        "Definindo as componentes da aceleração no eixo X e Y, no eixo X depende da força resistiva da massa e do ângulo, ja em Y depende também da gravidade"
      ]
    },
    {
      "cell_type": "code",
      "execution_count": null,
      "metadata": {},
      "outputs": [],
      "source": [
        "def aX(R, M, ang):\n",
        "    return -(R * np.cos(ang))/M\n",
        "\n",
        "def aY(R, M, G, ang):\n",
        "    return -G-(R * np.sin(ang))/M"
      ]
    },
    {
      "cell_type": "markdown",
      "metadata": {},
      "source": []
    },
    {
      "cell_type": "code",
      "execution_count": null,
      "metadata": {},
      "outputs": [],
      "source": []
    }
  ],
  "metadata": {
    "colab": {
      "collapsed_sections": [],
      "provenance": []
    },
    "kernelspec": {
      "display_name": "Python 3.8.10 64-bit",
      "language": "python",
      "name": "python3"
    },
    "language_info": {
      "codemirror_mode": {
        "name": "ipython",
        "version": 3
      },
      "file_extension": ".py",
      "mimetype": "text/x-python",
      "name": "python",
      "nbconvert_exporter": "python",
      "pygments_lexer": "ipython3",
      "version": "3.8.10"
    },
    "vscode": {
      "interpreter": {
        "hash": "916dbcbb3f70747c44a77c7bcd40155683ae19c65e1c03b4aa3499c5328201f1"
      }
    }
  },
  "nbformat": 4,
  "nbformat_minor": 0
}
