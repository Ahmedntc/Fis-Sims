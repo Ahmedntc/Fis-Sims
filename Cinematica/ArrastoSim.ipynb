{
  "cells": [
    {
      "cell_type": "markdown",
      "metadata": {},
      "source": [
        "Importando as Bibliotecas"
      ]
    },
    {
      "cell_type": "code",
      "execution_count": 15,
      "metadata": {},
      "outputs": [],
      "source": [
        "import math\n",
        "import matplotlib.pyplot as plt\n",
        "import numpy as np"
      ]
    },
    {
      "cell_type": "markdown",
      "metadata": {},
      "source": [
        "Declarando variaveis e iniciando as lists que serão usadas para plotar as figuras"
      ]
    },
    {
      "cell_type": "code",
      "execution_count": 16,
      "metadata": {},
      "outputs": [],
      "source": [
        "pIy = 0.0 \n",
        "pIx = 0.0\n",
        "\n",
        "g = 9.81\n",
        "\n",
        "x = 0.00\n",
        "y = 0.00\n",
        "\n",
        "Y = []\n",
        "X = []\n",
        "\n",
        "rX = []\n",
        "rY = []"
      ]
    },
    {
      "cell_type": "markdown",
      "metadata": {},
      "source": [
        "Velocidade "
      ]
    },
    {
      "cell_type": "code",
      "execution_count": 17,
      "metadata": {},
      "outputs": [],
      "source": [
        "def V(v0, t , a):\n",
        "  return v0 + t * a"
      ]
    },
    {
      "cell_type": "markdown",
      "metadata": {},
      "source": [
        "Definindo a função para a componente X da velocidade que depende de v0 que é a velocidade inicial e ang que é o ângulo, ambos são fornecidos pelo usuário."
      ]
    },
    {
      "cell_type": "code",
      "execution_count": 18,
      "metadata": {},
      "outputs": [],
      "source": [
        "def v_x(v0, ang):\n",
        "  return v0 * math.cos(ang)"
      ]
    },
    {
      "cell_type": "markdown",
      "metadata": {},
      "source": [
        "Definindo a função para a componente Y da velocidade quando t = 0 que depende de v0 que é a velocidade inicial e ang que é o ângulo, ambos são fornecidos pelo usuário."
      ]
    },
    {
      "cell_type": "code",
      "execution_count": 19,
      "metadata": {},
      "outputs": [],
      "source": [
        "\n",
        "def v_y(v0, ang):\n",
        "  return v0 * math.sin(ang)\n",
        "\n"
      ]
    },
    {
      "cell_type": "markdown",
      "metadata": {},
      "source": [
        "Definindo a função para a componente Y da velocidade quando  que depende de v0 que é a velocidade inicial, ang que é o ângulo, ambos são fornecidos pelo usuário, depende da força de aceleração da gravidade e do instante de tempo t"
      ]
    },
    {
      "cell_type": "code",
      "execution_count": 20,
      "metadata": {},
      "outputs": [],
      "source": [
        "def speedY(v0, grav, time, ang):\n",
        "  return v0 * math.sin(ang) - (grav * time)"
      ]
    },
    {
      "cell_type": "markdown",
      "metadata": {},
      "source": [
        "Definindo as posiçoes de X que depende da posição inicial p0_x da velocidade na componente X e do tempo\n"
      ]
    },
    {
      "cell_type": "code",
      "execution_count": 21,
      "metadata": {},
      "outputs": [],
      "source": [
        "def pos_X(p0_x, v_x, time):\n",
        "  return p0_x + (v_x * time)"
      ]
    },
    {
      "cell_type": "markdown",
      "metadata": {},
      "source": [
        "Definindo as posiçoes de Y que depende da posição inicial p0_y da velocidade na componente Y, do tempo e da gravidade\n"
      ]
    },
    {
      "cell_type": "code",
      "execution_count": 22,
      "metadata": {},
      "outputs": [],
      "source": [
        "def pos_Y(p0_y, v_y, time, grav):\n",
        "  return p0_y + (v_y * time) - ((grav * (time ** 2))/2)"
      ]
    },
    {
      "cell_type": "markdown",
      "metadata": {},
      "source": [
        "Resultante da Velocidade total"
      ]
    },
    {
      "cell_type": "code",
      "execution_count": 23,
      "metadata": {},
      "outputs": [],
      "source": [
        "def v_T(v_x, v_y):\n",
        "  return (math.sqrt(v_x ** 2  + v_y ** 2))"
      ]
    },
    {
      "cell_type": "markdown",
      "metadata": {},
      "source": [
        "Definimos a função para retornar o ângulo instantâneo"
      ]
    },
    {
      "cell_type": "code",
      "execution_count": 24,
      "metadata": {},
      "outputs": [],
      "source": [
        "def anguloInst(vY, vX):\n",
        "  return math.atan(vY/vX)"
      ]
    },
    {
      "cell_type": "markdown",
      "metadata": {},
      "source": [
        "## Força resistiva\n",
        "  D coeficente de arrasto de um objeto nesse caso 0.47 pois é uma esfera,\n",
        "  P que é a densidade do ar,\n",
        "  A que é a área de seção transversal,\n",
        "  V que é a velocidade do projétil\n",
        "\n",
        "\n"
      ]
    },
    {
      "cell_type": "code",
      "execution_count": 25,
      "metadata": {},
      "outputs": [],
      "source": [
        "def forRes(d=0.47, p=1.225, a=0.8, v=0.0):\n",
        "    res = 0.5 * d * p * a * (v ** 2)\n",
        "    return res"
      ]
    },
    {
      "cell_type": "markdown",
      "metadata": {},
      "source": [
        "Definindo as componentes da aceleração no eixo X e Y, no eixo X depende da força resistiva da massa e do ângulo, ja em Y depende também da gravidade"
      ]
    },
    {
      "cell_type": "code",
      "execution_count": 26,
      "metadata": {},
      "outputs": [],
      "source": [
        "def aX(R, M, ang):\n",
        "    return -(R * np.cos(ang))/M\n",
        "\n",
        "def aY(R = 0.0, M = 0.0, G = 9.81, ang = 0.0):\n",
        "    return -G-(R * np.sin(ang))/M"
      ]
    },
    {
      "cell_type": "markdown",
      "metadata": {},
      "source": [
        "Inputs iniciais"
      ]
    },
    {
      "cell_type": "code",
      "execution_count": 27,
      "metadata": {},
      "outputs": [],
      "source": [
        "angulo = float(input(\"Escolha um ângulo inicial:\"))\n",
        "v0 = float(input(\"Digite a velocidade inicial:\"))\n",
        "massa = float(input(\"Digite a massa do objeto:\"))\n",
        "angulo = math.radians(angulo)\n",
        "anguloI = angulo\n"
      ]
    },
    {
      "cell_type": "markdown",
      "metadata": {},
      "source": [
        "Construindo tabela das variavéis"
      ]
    },
    {
      "cell_type": "code",
      "execution_count": 28,
      "metadata": {},
      "outputs": [
        {
          "name": "stdout",
          "output_type": "stream",
          "text": [
            "\n",
            "Tempo    Pos_X   Pos_Y    Vel_Y     Vel_X    VTotal    A_X    A_Y    Angulo\n",
            "\n",
            "---------------------------------------------------------------------------\n",
            "\n",
            " 0.00    0.00    0.00    12.22     4.45    13.00   -1.33   -13.47    70.00\n",
            "\n",
            " 0.01    0.05    0.14    12.07     4.43    12.85   -1.30   -13.39    70.00\n",
            "\n",
            " 0.02    0.10    0.27    11.77     4.40    12.57   -1.25   -13.22    69.83\n",
            "\n",
            " 0.03    0.15    0.40    11.33     4.36    12.14   -1.19   -12.99    69.49\n",
            "\n",
            " 0.04    0.19    0.53    10.75     4.31    11.58   -1.11   -12.69    68.95\n",
            "\n",
            " 0.06    0.24    0.66    10.05     4.25    10.91   -1.02   -12.35    68.16\n",
            "\n",
            " 0.07    0.28    0.78    9.22     4.18    10.12   -0.92   -11.98    67.09\n",
            "\n",
            " 0.08    0.32    0.89    8.29     4.11    9.25   -0.81   -11.61    65.63\n",
            "\n",
            " 0.09    0.36    1.00    7.26     4.03    8.30   -0.71   -11.23    63.65\n",
            "\n",
            " 0.10    0.40    1.09    6.14     3.96    7.30   -0.60   -10.88    60.93\n",
            "\n"
          ]
        }
      ],
      "source": [
        "\n",
        "  \n",
        "vx = v_x(v0, angulo)\n",
        "vy = v_y(v0, angulo)\n",
        "r = forRes(v = v0)\n",
        "ax = aX(r, massa, angulo)\n",
        "ay = aY(R = r, M = massa, ang = angulo)\n",
        "\n",
        "print(\"\\nTempo    Pos_X   Pos_Y    Vel_Y     Vel_X    VTotal    A_X    A_Y    Angulo\\n\")\n",
        "print(\"---------------------------------------------------------------------------\\n\")\n",
        "\n",
        "#tabela\n",
        "for i in np.linspace(0, 0.10,dtype=float,num=10):\n",
        "    t = i\n",
        "\n",
        "    ag = angulo \n",
        "\n",
        "    vy = V(vy, t, ay)\n",
        "    vx = V(vx, t, ax)\n",
        "\n",
        "    p_X = pos_X(pIx, vx, t)\n",
        "    p_Y = pos_Y(pIy, v_y(v0, ag), t, g)\n",
        "\n",
        "    VT = v_T(vx, vy)\n",
        "\n",
        "    r = forRes(v = VT)\n",
        "\n",
        "    ax = aX(r, massa, ag)\n",
        "    ay = aY(R = r, M = massa, ang = ag)\n",
        "    \n",
        "    if p_Y < 0:\n",
        "      break\n",
        "    \n",
        "    ag = np.degrees(ag)    \n",
        "    angulo = anguloInst(vy, vx)\n",
        "\n",
        "    print(f\"{t: .2f}   {p_X: .2f}   {p_Y: .2f}   {vy: .2f}    {vx: .2f}   {VT: .2f}   {ax: .2f}   {ay: .2f}   {ag: .2f}\\n\")\n"
      ]
    },
    {
      "cell_type": "markdown",
      "metadata": {},
      "source": [
        "Construindo grafico sem arrasto"
      ]
    },
    {
      "cell_type": "code",
      "execution_count": 29,
      "metadata": {},
      "outputs": [],
      "source": [
        "angulo = anguloI\n",
        "vx = v_x(v0, angulo)\n",
        "vy = v_y(v0, angulo)\n",
        "r = forRes(v = v0)\n",
        "ax = aX(r, massa, angulo)\n",
        "ay = aY(R = r, M = massa, ang = angulo)\n",
        "\n",
        "#Grafico sem arrasto\n",
        "for j in np.linspace(0, 4,dtype=float,num=50):\n",
        "    t = j\n",
        "\n",
        "    vy = speedY(v0, g, t, angulo) \n",
        "    vx = v_x(v0, angulo)\n",
        "\n",
        "    p_X = pos_X(pIx, vx, t)\n",
        "    p_Y = pos_Y(pIy, v_y(v0, angulo), t, g)\n",
        "    \n",
        "    X.append(p_X)\n",
        "    Y.append(p_Y)\n",
        "\n",
        "    VT = v_T(vx, vy)\n",
        "\n",
        "    angulo = anguloInst(vy, vx)\n",
        "    if p_Y < 0:\n",
        "      break\n",
        "\n",
        "\n"
      ]
    },
    {
      "cell_type": "markdown",
      "metadata": {},
      "source": [
        "Construindo Grafico com arrasto"
      ]
    },
    {
      "cell_type": "code",
      "execution_count": 30,
      "metadata": {},
      "outputs": [],
      "source": [
        "angulo = anguloI\n",
        "x = 0\n",
        "y = 0 \n",
        "vRx = v_x(v0, angulo)\n",
        "vRy = v_y(v0, angulo)\n",
        "#Grafico com arrasto\n",
        "for k in np.linspace(0, 0.10,dtype=float,num=50):\n",
        "    t = k\n",
        "\n",
        "    vRx = V(vRx, t, ax)\n",
        "    vRy = V(vRy, t, ay)\n",
        "\n",
        "    x = x + t * vRx\n",
        "    y = y + t * vRy\n",
        "    \n",
        "    VT = v_T(vRx, vRy)\n",
        "    r = forRes(v = VT)\n",
        "\n",
        "    ax = aX(r, massa, angulo)\n",
        "    ay = aY(R = r, M = massa, ang = angulo)\n",
        "\n",
        "    rX.append(x)\n",
        "    rY.append(y)\n",
        "\n",
        "    if y < 0:\n",
        "      break\n",
        "  \n",
        "\n",
        "\n"
      ]
    },
    {
      "cell_type": "markdown",
      "metadata": {},
      "source": [
        "Transformando as lists em arrays para plotarmos"
      ]
    },
    {
      "cell_type": "code",
      "execution_count": 31,
      "metadata": {},
      "outputs": [],
      "source": [
        "X = np.array(X)\n",
        "Y = np.array(Y)\n",
        "rX = np.array(rX)\n",
        "rY = np.array(rY)\n"
      ]
    },
    {
      "cell_type": "markdown",
      "metadata": {},
      "source": [
        "Plotando as curvas com e sem arrasto"
      ]
    },
    {
      "cell_type": "code",
      "execution_count": 32,
      "metadata": {},
      "outputs": [
        {
          "data": {
            "image/png": "[encoded data removed]",
            "text/plain": [
              "<Figure size 1000x700 with 1 Axes>"
            ]
          },
          "metadata": {},
          "output_type": "display_data"
        }
      ],
      "source": [
        "fig, ax = plt.subplots()\n",
        "fig.set_size_inches(10, 7)\n",
        "ax.plot(X, Y,  label = \"SEM ARRASTO\")\n",
        "ax.plot(rX, rY, label = \"COM ARRASTO\")\n",
        "\n",
        "ax.set_title(\"Lançamento de projéteis\\n\", fontdict={'fontsize': 20, 'fontweight' : 5, 'color' : 'Green'})\n",
        "ax.set_xlabel(\"X(m)\", fontdict={'fontsize': 12, 'fontweight' : 5, 'color' : 'Brown'})\n",
        "ax.set_ylabel(\"Y(m)\", fontdict={'fontsize': 12, 'fontweight' : 5, 'color' : 'Brown'})\n",
        "ax.legend()\n",
        "\n",
        "plt.xticks(range(0, 15))\n",
        "plt.yticks(range(0, 20, 1))\n",
        "plt.show()"
      ]
    }
  ],
  "metadata": {
    "colab": {
      "collapsed_sections": [],
      "provenance": []
    },
    "kernelspec": {
      "display_name": "Python 3.8.10 64-bit",
      "language": "python",
      "name": "python3"
    },
    "language_info": {
      "codemirror_mode": {
        "name": "ipython",
        "version": 3
      },
      "file_extension": ".py",
      "mimetype": "text/x-python",
      "name": "python",
      "nbconvert_exporter": "python",
      "pygments_lexer": "ipython3",
      "version": "3.8.10"
    },
    "vscode": {
      "interpreter": {
        "hash": "916dbcbb3f70747c44a77c7bcd40155683ae19c65e1c03b4aa3499c5328201f1"
      }
    }
  },
  "nbformat": 4,
  "nbformat_minor": 0
}
